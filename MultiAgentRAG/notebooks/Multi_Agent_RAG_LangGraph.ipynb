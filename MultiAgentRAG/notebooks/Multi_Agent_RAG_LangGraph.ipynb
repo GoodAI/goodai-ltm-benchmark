{
  "nbformat": 4,
  "nbformat_minor": 0,
  "metadata": {
    "colab": {
      "provenance": [],
      "collapsed_sections": [
        "IDUnpEEl-L_F"
      ]
    },
    "kernelspec": {
      "name": "python3",
      "display_name": "Python 3"
    },
    "language_info": {
      "name": "python"
    }
  },
  "cells": [
    {
      "cell_type": "markdown",
      "source": [
        "# Multi-Agent Workflows + RAG - LangGraph\n",
        "\n",
        "Today we'll be looking at an example of a Multi-Agent workflow that's powered by LangGraph, LCEL, and more!\n",
        "\n",
        "We're going to be, more specifically, looking at a \"heirarchical agent teams\" from the [AutoGen: Enabling Next-Gen LLM\n",
        "Applications via Multi-Agent Conversation](https://arxiv.org/pdf/2308.08155) paper.\n",
        "\n",
        "This will be the final \"graph\" of our system:\n",
        "\n",
        "![image](https://i.imgur.com/Bhc7RVE.png)\n",
        "\n",
        "It's important to keep in mind that the actual implementation will be constructed of 3 separate graphs, the final one having 2 graphs as nodes! LangGraph is a heckuva tool!\n",
        "\n",
        "> NOTE: We'll be following along with the official LangGraph implementation very closely, which you can find [here](https://github.com/langchain-ai/langgraph/blob/main/examples/multi_agent/hierarchical_agent_teams.ipynb), with some minor modifications and extensions to showcase just how straightforward it is to modify LangGraph implementations to suit your own needs!\n",
        "\n"
      ],
      "metadata": {
        "id": "KxpWDFG11o3G"
      }
    },
    {
      "cell_type": "markdown",
      "source": [
        "## Dependencies\n",
        "\n",
        "We'll start, as we normally do, by grabbing our dependencies.\n",
        "\n",
        "We'll be using LangChain and LangGraph to power our application, so let's start by grabbing those!"
      ],
      "metadata": {
        "id": "mx3oaVoX5cA2"
      }
    },
    {
      "cell_type": "code",
      "execution_count": null,
      "metadata": {
        "id": "cs6HUTgecbzW"
      },
      "outputs": [],
      "source": [
        "!pip install -qU langgraph langchain langchain_openai langchain_experimental"
      ]
    },
    {
      "cell_type": "markdown",
      "source": [
        "We're going to be showing a simple RAG chain as part of our LangGraph - and so we'll need specific dependencies for that as well!"
      ],
      "metadata": {
        "id": "BMzWFUc25oqT"
      }
    },
    {
      "cell_type": "code",
      "source": [
        "!pip install -qU --disable-pip-version-check qdrant-client pymupdf tiktoken"
      ],
      "metadata": {
        "id": "qEUBCOdukjwc"
      },
      "execution_count": null,
      "outputs": []
    },
    {
      "cell_type": "markdown",
      "source": [
        "Since we'll be relying on OpenAI's suite of models to power our agents today, we'll want to provide our OpenAI API Key.\n",
        "\n",
        "We're also going to be using the Tavily search tool - so we'll want to provide that API key as well!\n",
        "\n",
        "Instruction for how to obtain these API keys can be found:\n",
        "\n",
        "1. [OpenAI API Key](https://platform.openai.com/docs/quickstart#:~:text=Account%20setup,not%20share%20it%20with%20anyone.)\n",
        "2. [Tavily API Key](https://docs.tavily.com/docs/tavily-api/introduction#:~:text=Sign%20Up%3A%20Begin%20by%20signing,in%20our%20interactive%20API%20playground.)\n",
        "\n"
      ],
      "metadata": {
        "id": "Zpv2MWqu5vS9"
      }
    },
    {
      "cell_type": "code",
      "source": [
        "import os\n",
        "import getpass\n",
        "\n",
        "os.environ[\"OPENAI_API_KEY\"] = getpass.getpass(\"OpenAI API Key:\")\n",
        "os.environ[\"TAVILY_API_KEY\"] = getpass.getpass(\"TAVILY_API_KEY\")"
      ],
      "metadata": {
        "colab": {
          "base_uri": "https://localhost:8080/"
        },
        "id": "h30OjkLfeR2Y",
        "outputId": "41fa0092-b185-43de-8734-32b2151d8776"
      },
      "execution_count": null,
      "outputs": [
        {
          "name": "stdout",
          "output_type": "stream",
          "text": [
            "OpenAI API Key:··········\n",
            "TAVILY_API_KEY··········\n"
          ]
        }
      ]
    },
    {
      "cell_type": "markdown",
      "source": [
        "## Simple LCEL RAG\n",
        "\n",
        "Now that we have our dependencies set-up - let's create a simple RAG chain that works over a single PDF.\n",
        "\n",
        "> NOTE: While this particular example is very straight forward - you can \"plug in\" any complexity of chain you desire as a node in a LangGraph."
      ],
      "metadata": {
        "id": "M_LD7rwT6PbO"
      }
    },
    {
      "cell_type": "markdown",
      "source": [
        "## Retrieval\n",
        "\n",
        "The 'R' in 'RAG' - this is, at this point, fairly straightforward!"
      ],
      "metadata": {
        "id": "JY7T5kxJ6jGn"
      }
    },
    {
      "cell_type": "markdown",
      "source": [
        "#### Data Collection and Processing\n",
        "\n",
        "A classic first step, at this point, let's grab our desired document!"
      ],
      "metadata": {
        "id": "DGuPxSCk7Ztz"
      }
    },
    {
      "cell_type": "code",
      "source": [
        "from langchain.document_loaders import PyMuPDFLoader\n",
        "\n",
        "docs = PyMuPDFLoader(\"https://arxiv.org/pdf/2404.19553\").load()"
      ],
      "metadata": {
        "id": "LfuoEYRCln3H"
      },
      "execution_count": null,
      "outputs": []
    },
    {
      "cell_type": "markdown",
      "source": [
        "Now we can chunk it down to size!"
      ],
      "metadata": {
        "id": "r_t_F1zG6vXa"
      }
    },
    {
      "cell_type": "code",
      "source": [
        "import tiktoken\n",
        "from langchain.text_splitter import RecursiveCharacterTextSplitter\n",
        "\n",
        "def tiktoken_len(text):\n",
        "    tokens = tiktoken.encoding_for_model(\"gpt-3.5-turbo\").encode(\n",
        "        text,\n",
        "    )\n",
        "    return len(tokens)\n",
        "\n",
        "text_splitter = RecursiveCharacterTextSplitter(\n",
        "    chunk_size = 300,\n",
        "    chunk_overlap = 0,\n",
        "    length_function = tiktoken_len,\n",
        ")\n",
        "\n",
        "split_chunks = text_splitter.split_documents(docs)"
      ],
      "metadata": {
        "id": "5R7A_z8CgL79"
      },
      "execution_count": null,
      "outputs": []
    },
    {
      "cell_type": "markdown",
      "source": [
        "Now we've successfully split our single PDF into..."
      ],
      "metadata": {
        "id": "lGE-VuMc7AKv"
      }
    },
    {
      "cell_type": "code",
      "source": [
        "len(split_chunks)"
      ],
      "metadata": {
        "colab": {
          "base_uri": "https://localhost:8080/"
        },
        "id": "pgYBHsdWmLvW",
        "outputId": "9edfecc4-f459-4cd5-f815-82fef9283d9e"
      },
      "execution_count": null,
      "outputs": [
        {
          "output_type": "execute_result",
          "data": {
            "text/plain": [
              "15"
            ]
          },
          "metadata": {},
          "execution_count": 114
        }
      ]
    },
    {
      "cell_type": "markdown",
      "source": [
        "documents!"
      ],
      "metadata": {
        "id": "lxaKmmyh7DHD"
      }
    },
    {
      "cell_type": "markdown",
      "source": [
        "#### Embedding Model and Vector Store\n",
        "\n",
        "Now that we have our chunked document - lets create a vector store, which will first require us to create an embedding model to get the vector representations of our text!\n",
        "\n",
        "We'll use OpenAI's [`text-embedding-3-small`](https://platform.openai.com/docs/guides/embeddings/embedding-models) model - as it's cheap, and performant."
      ],
      "metadata": {
        "id": "cGWs7KTd7QPS"
      }
    },
    {
      "cell_type": "code",
      "source": [
        "from langchain_openai.embeddings import OpenAIEmbeddings\n",
        "\n",
        "embedding_model = OpenAIEmbeddings(model=\"text-embedding-3-small\")"
      ],
      "metadata": {
        "id": "xLIWMMZCmfrj"
      },
      "execution_count": null,
      "outputs": []
    },
    {
      "cell_type": "markdown",
      "source": [
        "Now we can create our QDrant backed vector store!"
      ],
      "metadata": {
        "id": "lTEi7Ww573sc"
      }
    },
    {
      "cell_type": "code",
      "source": [
        "from langchain_community.vectorstores import Qdrant\n",
        "\n",
        "qdrant_vectorstore = Qdrant.from_documents(\n",
        "    split_chunks,\n",
        "    embedding_model,\n",
        "    location=\":memory:\",\n",
        "    collection_name=\"extending_context_window_llama_3\",\n",
        ")"
      ],
      "metadata": {
        "id": "Xct51f8omVAU"
      },
      "execution_count": null,
      "outputs": []
    },
    {
      "cell_type": "markdown",
      "source": [
        "Let's make sure we can access it as a retriever."
      ],
      "metadata": {
        "id": "wzGq6o4s79Ar"
      }
    },
    {
      "cell_type": "code",
      "source": [
        "qdrant_retriever = qdrant_vectorstore.as_retriever()"
      ],
      "metadata": {
        "id": "OTnQZbWymi4K"
      },
      "execution_count": null,
      "outputs": []
    },
    {
      "cell_type": "markdown",
      "source": [
        "### Augmented\n",
        "\n",
        "Now that we have our retrieval process set-up, we need to set up our \"augmentation\" process - AKA a prompt template."
      ],
      "metadata": {
        "id": "aU8qSrMS7_D7"
      }
    },
    {
      "cell_type": "code",
      "source": [
        "from langchain_core.prompts import ChatPromptTemplate\n",
        "\n",
        "RAG_PROMPT = \"\"\"\n",
        "CONTEXT:\n",
        "{context}\n",
        "\n",
        "QUERY:\n",
        "{question}\n",
        "\n",
        "You are a helpful assistant. Use the available context to answer the question. If you can't answer the question, say you don't know.\n",
        "\"\"\"\n",
        "\n",
        "rag_prompt = ChatPromptTemplate.from_template(RAG_PROMPT)"
      ],
      "metadata": {
        "id": "lezTN0zCmk46"
      },
      "execution_count": null,
      "outputs": []
    },
    {
      "cell_type": "markdown",
      "source": [
        "### Generation\n",
        "\n",
        "Last, but certainly not least, let's put the 'G' in 'RAG' by adding our generator - in this case, we can rely on OpenAI's [`gpt-3.5-turbo`](https://platform.openai.com/docs/models/gpt-3-5-turbo) model!"
      ],
      "metadata": {
        "id": "Y9fa63nM7IKK"
      }
    },
    {
      "cell_type": "code",
      "source": [
        "from langchain_openai import ChatOpenAI\n",
        "\n",
        "openai_chat_model = ChatOpenAI(model=\"gpt-3.5-turbo\")"
      ],
      "metadata": {
        "id": "AwEi29-Jo3a8"
      },
      "execution_count": null,
      "outputs": []
    },
    {
      "cell_type": "markdown",
      "source": [
        "### RAG - Retrieval Augmented Generation\n",
        "\n",
        "All that's left to do is combine our R, A, and G into a single chain - and we're off!"
      ],
      "metadata": {
        "id": "qO-ZC0T98XJJ"
      }
    },
    {
      "cell_type": "code",
      "source": [
        "from operator import itemgetter\n",
        "from langchain.schema.output_parser import StrOutputParser\n",
        "\n",
        "rag_chain = (\n",
        "    {\"context\": itemgetter(\"question\") | qdrant_retriever, \"question\": itemgetter(\"question\")}\n",
        "    | rag_prompt | openai_chat_model | StrOutputParser()\n",
        ")"
      ],
      "metadata": {
        "id": "nlOJrPm_oT3S"
      },
      "execution_count": null,
      "outputs": []
    },
    {
      "cell_type": "markdown",
      "source": [
        "Let's test this out and make sure it works."
      ],
      "metadata": {
        "id": "qiWrbXpu8ggz"
      }
    },
    {
      "cell_type": "code",
      "source": [
        "rag_chain.invoke({\"question\" : \"What does the 'context' in 'long context' refer to?\"})"
      ],
      "metadata": {
        "colab": {
          "base_uri": "https://localhost:8080/",
          "height": 35
        },
        "id": "gJhFlW32pBPe",
        "outputId": "ba8823cb-a32b-4a51-afe2-be3ef01cc85e"
      },
      "execution_count": null,
      "outputs": [
        {
          "output_type": "execute_result",
          "data": {
            "text/plain": [
              "\"The 'context' in 'long context' refers to a coherent text, such as a book or a long paper, that contains multiple independent texts. It is used to establish long-context capabilities for large language models.\""
            ],
            "application/vnd.google.colaboratory.intrinsic+json": {
              "type": "string"
            }
          },
          "metadata": {},
          "execution_count": 122
        }
      ]
    },
    {
      "cell_type": "markdown",
      "source": [
        "### RAG Limitation\n",
        "\n",
        "Notice how we're hard-coding our data, while this is simply meant to be an illustrative example - you could easily extend this to work with any provied paper or document in order to have a more dynamic system.\n",
        "\n",
        "For now, we'll stick with this single hard-coded example in order to keep complexity down in an already very long notebook!"
      ],
      "metadata": {
        "id": "gReMizYk8qd-"
      }
    },
    {
      "cell_type": "markdown",
      "source": [
        "## Helper Functions for Agent Graphs\n",
        "\n",
        "We'll be using a number of agents, nodes, and supervisors in the rest of the notebook - and so it will help to have a collection of useful helper functions that we can leverage to make our lives easier going forward.\n",
        "\n",
        "Let's start with the most simple one!"
      ],
      "metadata": {
        "id": "7U6a_pqQ9uWf"
      }
    },
    {
      "cell_type": "markdown",
      "source": [
        "#### Import Wall\n",
        "\n",
        "Here's a wall of imports we'll be needing going forward!"
      ],
      "metadata": {
        "id": "IDUnpEEl-L_F"
      }
    },
    {
      "cell_type": "code",
      "source": [
        "from typing import Any, Callable, List, Optional, TypedDict, Union\n",
        "\n",
        "from langchain.agents import AgentExecutor, create_openai_functions_agent\n",
        "from langchain.output_parsers.openai_functions import JsonOutputFunctionsParser\n",
        "from langchain_core.prompts import ChatPromptTemplate, MessagesPlaceholder\n",
        "from langchain_core.messages import AIMessage, BaseMessage, HumanMessage\n",
        "from langchain_core.runnables import Runnable\n",
        "from langchain_core.tools import BaseTool\n",
        "from langchain_openai import ChatOpenAI\n",
        "\n",
        "from langgraph.graph import END, StateGraph"
      ],
      "metadata": {
        "id": "TbzoL3Q3-SG1"
      },
      "execution_count": null,
      "outputs": []
    },
    {
      "cell_type": "markdown",
      "source": [
        "### Agent Node Helper\n",
        "\n",
        "Since we're going to be wrapping each of our agents into a node - it will help to have an easy way to create the node!"
      ],
      "metadata": {
        "id": "qb6Z3EEz-Asi"
      }
    },
    {
      "cell_type": "code",
      "source": [
        "def agent_node(state, agent, name):\n",
        "    result = agent.invoke(state)\n",
        "    return {\"messages\": [HumanMessage(content=result[\"output\"], name=name)]}"
      ],
      "metadata": {
        "id": "5IF7KWfS-JKd"
      },
      "execution_count": null,
      "outputs": []
    },
    {
      "cell_type": "markdown",
      "source": [
        "### Agent Creation Helper Function\n",
        "\n",
        "Since we know we'll need to create agents to populate our agent nodes, let's use a helper function for that as well!\n",
        "\n",
        "Notice a few things:\n",
        "\n",
        "1. We have a standard suffix to append to our system messages for each agent to handle the tool calling and boilerplate prompting.\n",
        "2. Each agent has its our scratchpad.\n",
        "3. We're relying on OpenAI's function-calling API for tool selection\n",
        "4. Each agent is its own executor."
      ],
      "metadata": {
        "id": "fwND2teK-WHm"
      }
    },
    {
      "cell_type": "code",
      "source": [
        "def create_agent(\n",
        "    llm: ChatOpenAI,\n",
        "    tools: list,\n",
        "    system_prompt: str,\n",
        ") -> str:\n",
        "    \"\"\"Create a function-calling agent and add it to the graph.\"\"\"\n",
        "    system_prompt += \"\\nWork autonomously according to your specialty, using the tools available to you.\"\n",
        "    \" Do not ask for clarification.\"\n",
        "    \" Your other team members (and other teams) will collaborate with you with their own specialties.\"\n",
        "    \" You are chosen for a reason! You are one of the following team members: {team_members}.\"\n",
        "    prompt = ChatPromptTemplate.from_messages(\n",
        "        [\n",
        "            (\n",
        "                \"system\",\n",
        "                system_prompt,\n",
        "            ),\n",
        "            MessagesPlaceholder(variable_name=\"messages\"),\n",
        "            MessagesPlaceholder(variable_name=\"agent_scratchpad\"),\n",
        "        ]\n",
        "    )\n",
        "    agent = create_openai_functions_agent(llm, tools, prompt)\n",
        "    executor = AgentExecutor(agent=agent, tools=tools)\n",
        "    return executor"
      ],
      "metadata": {
        "id": "NxLyHJt5-eUx"
      },
      "execution_count": null,
      "outputs": []
    },
    {
      "cell_type": "markdown",
      "source": [
        "### Supervisor Helper Function\n",
        "\n",
        "Finally, we need a \"supervisor\" that decides and routes tasks to specific agents.\n",
        "\n",
        "Since each \"team\" will have a collection of potential agents - this \"supervisor\" will act as an \"intelligent\" router to make sure that the right agent is selected for the right task.\n",
        "\n",
        "Notice that, at the end of the day, this \"supervisor\" is simply directing who acts next - or if the state is considered \"done\"."
      ],
      "metadata": {
        "id": "S6kmlR9d-1K5"
      }
    },
    {
      "cell_type": "code",
      "source": [
        "def create_team_supervisor(llm: ChatOpenAI, system_prompt, members) -> str:\n",
        "    \"\"\"An LLM-based router.\"\"\"\n",
        "    options = [\"FINISH\"] + members\n",
        "    function_def = {\n",
        "        \"name\": \"route\",\n",
        "        \"description\": \"Select the next role.\",\n",
        "        \"parameters\": {\n",
        "            \"title\": \"routeSchema\",\n",
        "            \"type\": \"object\",\n",
        "            \"properties\": {\n",
        "                \"next\": {\n",
        "                    \"title\": \"Next\",\n",
        "                    \"anyOf\": [\n",
        "                        {\"enum\": options},\n",
        "                    ],\n",
        "                },\n",
        "            },\n",
        "            \"required\": [\"next\"],\n",
        "        },\n",
        "    }\n",
        "    prompt = ChatPromptTemplate.from_messages(\n",
        "        [\n",
        "            (\"system\", system_prompt),\n",
        "            MessagesPlaceholder(variable_name=\"messages\"),\n",
        "            (\n",
        "                \"system\",\n",
        "                \"Given the conversation above, who should act next?\"\n",
        "                \" Or should we FINISH? Select one of: {options}\",\n",
        "            ),\n",
        "        ]\n",
        "    ).partial(options=str(options), team_members=\", \".join(members))\n",
        "    return (\n",
        "        prompt\n",
        "        | llm.bind_functions(functions=[function_def], function_call=\"route\")\n",
        "        | JsonOutputFunctionsParser()\n",
        "    )"
      ],
      "metadata": {
        "id": "S2MXA83mrYE2"
      },
      "execution_count": null,
      "outputs": []
    },
    {
      "cell_type": "markdown",
      "source": [
        "## Research Team - A LangGraph for Researching A Specific Topic\n",
        "\n",
        "Now that we have our RAG chain set-up and some awesome helper functions, we want to create a LangGraph related to researching a specific topic.\n",
        "\n",
        "We're going to start by equipping our Research Team with a few tools:\n",
        "\n",
        "1. Tavily Search - aka \"Google\", for the most up to date information possible.\n",
        "2. Our RAG chain - specific and high quality information about our topic.\n",
        "\n",
        "Let's create those tools now!"
      ],
      "metadata": {
        "id": "jd0zfyq48jKb"
      }
    },
    {
      "cell_type": "markdown",
      "source": [
        "### Tool Creation\n",
        "\n",
        "As you can see below, some tools already come pre-packaged ready to use!"
      ],
      "metadata": {
        "id": "VNsVTZrH_alw"
      }
    },
    {
      "cell_type": "code",
      "source": [
        "from langchain_community.tools.tavily_search import TavilySearchResults\n",
        "\n",
        "tavily_tool = TavilySearchResults(max_results=5)"
      ],
      "metadata": {
        "id": "ce7FKTZDgAWG"
      },
      "execution_count": null,
      "outputs": []
    },
    {
      "cell_type": "markdown",
      "source": [
        "Creating a custom tool, however, is very straightforward.\n",
        "\n",
        "> NOTE: You *must* include a docstring, as that is what the LLM will consider when deciding when to use this tool."
      ],
      "metadata": {
        "id": "NIR7cbTL9agM"
      }
    },
    {
      "cell_type": "code",
      "source": [
        "from typing import Annotated, List, Tuple, Union\n",
        "from langchain_core.tools import tool\n",
        "\n",
        "@tool\n",
        "def retrieve_information(\n",
        "    query: Annotated[str, \"query to ask the retrieve information tool\"]\n",
        "    ):\n",
        "  \"\"\"Use Retrieval Augmented Generation to retrieve information about the 'Extending Llama-3’s Context Ten-Fold Overnight' paper.\"\"\"\n",
        "  return rag_chain.invoke({\"question\" : query})"
      ],
      "metadata": {
        "id": "sSwO2L_UqFhm"
      },
      "execution_count": null,
      "outputs": []
    },
    {
      "cell_type": "markdown",
      "source": [
        "> NOTE: We could just as easily use the LCEL chain directly, since nodes can be LCEL objects - but creating a tool helps explain the tool creation process at the same time."
      ],
      "metadata": {
        "id": "nxsMnqjpBTCj"
      }
    },
    {
      "cell_type": "markdown",
      "source": [
        "### Research Team State\n",
        "\n",
        "Since we're using LangGraph - we're going to need state!\n",
        "\n",
        "Let's look at how we've created our state below."
      ],
      "metadata": {
        "id": "oDHCajO4_gB2"
      }
    },
    {
      "cell_type": "code",
      "source": [
        "import functools\n",
        "import operator\n",
        "\n",
        "from langchain_core.messages import AIMessage, BaseMessage, HumanMessage\n",
        "from langchain_openai.chat_models import ChatOpenAI\n",
        "import functools\n",
        "\n",
        "class ResearchTeamState(TypedDict):\n",
        "    messages: Annotated[List[BaseMessage], operator.add]\n",
        "    team_members: List[str]\n",
        "    next: str"
      ],
      "metadata": {
        "id": "mXminK9d_1fa"
      },
      "execution_count": null,
      "outputs": []
    },
    {
      "cell_type": "markdown",
      "source": [
        "Notice how we've used `messages`, `team_members`, and `next`.\n",
        "\n",
        "These states will help us understand:\n",
        "\n",
        "1. What we've done so far (`messages`)\n",
        "2. Which team members we have access to (`team_members`)\n",
        "3. Which team member is up next! (`next`)"
      ],
      "metadata": {
        "id": "fvPM5msq_18C"
      }
    },
    {
      "cell_type": "markdown",
      "source": [
        "### Research Team LLM\n",
        "\n",
        "We'll be using `gpt-4-1106-preview` today. This LLM is going to be doing a lot of reasoning - and so using a \"powerful\" LLM is very important here!"
      ],
      "metadata": {
        "id": "Mu7B_6qHAFjK"
      }
    },
    {
      "cell_type": "code",
      "source": [
        "llm = ChatOpenAI(model=\"gpt-4-1106-preview\")"
      ],
      "metadata": {
        "id": "dTNqrip8AcKR"
      },
      "execution_count": null,
      "outputs": []
    },
    {
      "cell_type": "markdown",
      "source": [
        "### Research Team Agents & Nodes\n",
        "\n",
        "Now we can use our helper functions to create our agent nodes, with their related tools.\n",
        "\n",
        "Let's start with our search agent node."
      ],
      "metadata": {
        "id": "ZR_1LuMKAekf"
      }
    },
    {
      "cell_type": "markdown",
      "source": [
        "#### Research Team: Search Agent\n",
        "\n",
        "We're going to give our agent access to the Tavily tool, power it with our GPT-4 Turbo model, and then create its node - and name it `Search`."
      ],
      "metadata": {
        "id": "uzx6wuPoAlPq"
      }
    },
    {
      "cell_type": "code",
      "source": [
        "search_agent = create_agent(\n",
        "    llm,\n",
        "    [tavily_tool],\n",
        "    \"You are a research assistant who can search for up-to-date info using the tavily search engine.\",\n",
        ")\n",
        "search_node = functools.partial(agent_node, agent=search_agent, name=\"Search\")"
      ],
      "metadata": {
        "id": "FIlLPxj7Atpj"
      },
      "execution_count": null,
      "outputs": []
    },
    {
      "cell_type": "markdown",
      "source": [
        "#### Research Team: RAG Agent Node\n",
        "\n",
        "Now we can wrap our LCEL RAG pipeline in an agent node as well, using the LCEL RAG pipeline as the tool, as created above."
      ],
      "metadata": {
        "id": "emLtesudA9Dd"
      }
    },
    {
      "cell_type": "code",
      "source": [
        "research_agent = create_agent(\n",
        "    llm,\n",
        "    [retrieve_information],\n",
        "    \"You are a research assistant who can provide specific information on the provided paper: 'Extending Llama-3’s Context Ten-Fold Overnight'\",\n",
        ")\n",
        "research_node = functools.partial(agent_node, agent=research_agent, name=\"PaperInformationRetriever\")"
      ],
      "metadata": {
        "id": "z-nnAG9XA_p7"
      },
      "execution_count": null,
      "outputs": []
    },
    {
      "cell_type": "markdown",
      "source": [
        "### Research Team Supervisor Agent\n",
        "\n",
        "Notice that we're not yet creating our supervisor *node*, simply the agent here.\n",
        "\n",
        "Also notice how we need to provide a few extra pieces of information - including which tools we're using.\n",
        "\n",
        "> NOTE: It's important to use the *exact* tool name, as that is how the LLM will reference the tool. Also, it's important that your tool name is all a single alphanumeric string!\n",
        "\n"
      ],
      "metadata": {
        "id": "dA5z6T1CBeSc"
      }
    },
    {
      "cell_type": "code",
      "source": [
        "supervisor_agent = create_team_supervisor(\n",
        "    llm,\n",
        "    \"You are a supervisor tasked with managing a conversation between the\"\n",
        "    \" following workers:  Search, PaperInformationRetriever. Given the following user request,\"\n",
        "    \" respond with the worker to act next. Each worker will perform a\"\n",
        "    \" task and respond with their results and status. When finished,\"\n",
        "    \" respond with FINISH.\",\n",
        "    [\"Search\", \"PaperInformationRetriever\"],\n",
        ")"
      ],
      "metadata": {
        "id": "J0g8CQMBrtFs"
      },
      "execution_count": null,
      "outputs": []
    },
    {
      "cell_type": "markdown",
      "source": [
        "### Research Team Graph Creation\n",
        "\n",
        "Now that we have our research team agent nodes created, and our supervisor agent - let's finally construct our graph!\n",
        "\n",
        "We'll start by creating our base graph from our state, and then adding the nodes/agent we've created as nodes on our LangGraph."
      ],
      "metadata": {
        "id": "qohn0DcgB_U1"
      }
    },
    {
      "cell_type": "code",
      "source": [
        "research_graph = StateGraph(ResearchTeamState)\n",
        "\n",
        "research_graph.add_node(\"Search\", search_node)\n",
        "research_graph.add_node(\"PaperInformationRetriever\", research_node)\n",
        "research_graph.add_node(\"supervisor\", supervisor_agent)"
      ],
      "metadata": {
        "id": "p0s2GAgJCN8G"
      },
      "execution_count": null,
      "outputs": []
    },
    {
      "cell_type": "markdown",
      "source": [
        "Now we can define our edges - include our conditional edge from our supervisor to our agent nodes.\n",
        "\n",
        "Notice how we're always routing our agent nodes back to our supervisor!"
      ],
      "metadata": {
        "id": "33qixRGNCaAX"
      }
    },
    {
      "cell_type": "code",
      "source": [
        "research_graph.add_edge(\"Search\", \"supervisor\")\n",
        "research_graph.add_edge(\"PaperInformationRetriever\", \"supervisor\")\n",
        "research_graph.add_conditional_edges(\n",
        "    \"supervisor\",\n",
        "    lambda x: x[\"next\"],\n",
        "    {\"Search\": \"Search\", \"PaperInformationRetriever\": \"PaperInformationRetriever\", \"FINISH\": END},\n",
        ")"
      ],
      "metadata": {
        "id": "yYSJIhijsGyg"
      },
      "execution_count": null,
      "outputs": []
    },
    {
      "cell_type": "markdown",
      "source": [
        "Now we can set our supervisor node as the entry point, and compile our graph!"
      ],
      "metadata": {
        "id": "hgGcuZzkCj1-"
      }
    },
    {
      "cell_type": "code",
      "source": [
        "research_graph.set_entry_point(\"supervisor\")\n",
        "chain = research_graph.compile()"
      ],
      "metadata": {
        "id": "1l-1I2Z3CnPX"
      },
      "execution_count": null,
      "outputs": []
    },
    {
      "cell_type": "markdown",
      "source": [
        "#### Display Graph"
      ],
      "metadata": {
        "id": "GDwQpYTSEY13"
      }
    },
    {
      "cell_type": "code",
      "source": [
        "!pip install -qU python_mermaid"
      ],
      "metadata": {
        "colab": {
          "base_uri": "https://localhost:8080/"
        },
        "id": "pzRE5ldzFlLQ",
        "outputId": "21444e0e-ac9f-4310-c3a1-4e825048e3b3"
      },
      "execution_count": null,
      "outputs": [
        {
          "output_type": "stream",
          "name": "stdout",
          "text": [
            "\u001b[?25l     \u001b[90m━━━━━━━━━━━━━━━━━━━━━━━━━━━━━━━━━━━━━━━━\u001b[0m \u001b[32m0.0/235.5 kB\u001b[0m \u001b[31m?\u001b[0m eta \u001b[36m-:--:--\u001b[0m\r\u001b[2K     \u001b[91m━━━━━━\u001b[0m\u001b[91m╸\u001b[0m\u001b[90m━━━━━━━━━━━━━━━━━━━━━━━━━━━━━━━━━\u001b[0m \u001b[32m41.0/235.5 kB\u001b[0m \u001b[31m1.3 MB/s\u001b[0m eta \u001b[36m0:00:01\u001b[0m\r\u001b[2K     \u001b[91m━━━━━━━━━━━━━━━━━━━━━━━━━━\u001b[0m\u001b[90m╺\u001b[0m\u001b[90m━━━━━━━━━━━━━\u001b[0m \u001b[32m153.6/235.5 kB\u001b[0m \u001b[31m2.3 MB/s\u001b[0m eta \u001b[36m0:00:01\u001b[0m\r\u001b[2K     \u001b[90m━━━━━━━━━━━━━━━━━━━━━━━━━━━━━━━━━━━━━━━━\u001b[0m \u001b[32m235.5/235.5 kB\u001b[0m \u001b[31m2.6 MB/s\u001b[0m eta \u001b[36m0:00:00\u001b[0m\n",
            "\u001b[?25h"
          ]
        }
      ]
    },
    {
      "cell_type": "code",
      "source": [
        "from IPython.display import Image, display\n",
        "\n",
        "try:\n",
        "    display(Image(chain.get_graph(xray=True).draw_mermaid_png()))\n",
        "except:\n",
        "    pass"
      ],
      "metadata": {
        "colab": {
          "base_uri": "https://localhost:8080/",
          "height": 422
        },
        "id": "l8n6SXhpEa2b",
        "outputId": "5f0338c3-4e3e-4dea-98b8-c735f85d4295"
      },
      "execution_count": null,
      "outputs": [
        {
          "output_type": "display_data",
          "data": {
            "image/jpeg": "[encoded data removed]",
            "text/plain": [
              "<IPython.core.display.Image object>"
            ]
          },
          "metadata": {}
        }
      ]
    },
    {
      "cell_type": "markdown",
      "source": [
        "The next part is key - since we need to \"wrap\" our LangGraph in order for it to be compatible in the following steps - let's create an LCEL chain out of it!\n",
        "\n",
        "This allows us to \"broadcast\" messages down to our Research Team LangGraph!"
      ],
      "metadata": {
        "id": "bfRvA2QfCqFL"
      }
    },
    {
      "cell_type": "code",
      "source": [
        "def enter_chain(message: str):\n",
        "    results = {\n",
        "        \"messages\": [HumanMessage(content=message)],\n",
        "    }\n",
        "    return results\n",
        "\n",
        "research_chain = enter_chain | chain"
      ],
      "metadata": {
        "id": "1G7hmEINCx3i"
      },
      "execution_count": null,
      "outputs": []
    },
    {
      "cell_type": "markdown",
      "source": [
        "Now, finally, we can take it for a spin!"
      ],
      "metadata": {
        "id": "EGdoCdXWC7Pi"
      }
    },
    {
      "cell_type": "code",
      "source": [
        "for s in research_chain.stream(\n",
        "    \"What are the main takeaways from the paper `Extending Llama-3's Context Ten-Fold Overnight'? Please use Search and PaperInformationRetriever!\", {\"recursion_limit\": 100}\n",
        "):\n",
        "    if \"__end__\" not in s:\n",
        "        print(s)\n",
        "        print(\"---\")"
      ],
      "metadata": {
        "colab": {
          "base_uri": "https://localhost:8080/"
        },
        "id": "xIDpFIg2sRUl",
        "outputId": "70944fda-4b2b-497c-f5cd-3346620985fb"
      },
      "execution_count": null,
      "outputs": [
        {
          "output_type": "stream",
          "name": "stdout",
          "text": [
            "{'supervisor': {'next': 'Search'}}\n",
            "---\n",
            "{'Search': {'messages': [HumanMessage(content='It appears there is an issue with the search engine at the moment, which is preventing me from retrieving the information you requested. Unfortunately, I cannot directly access the content of the paper \"Extending Llama-3\\'s Context Ten-Fold Overnight\" without the search tool.\\n\\nHowever, I can suggest some typical takeaways you might expect from a paper with such a title. Generally, a paper discussing the extension of a model\\'s context (like a hypothetical Llama-3, which seems to be a play on large language models such as GPT-3) would likely cover topics such as:\\n\\n1. **Methodology**: How the context was technically extended. This could involve new training techniques, data augmentation methods, or architectural changes to the model.\\n\\n2. **Performance Improvements**: The impact of the increased context on the model\\'s performance in various tasks, such as language understanding, generation, translation, etc.\\n\\n3. **Challenges and Solutions**: Challenges encountered while scaling up the context and the solutions implemented to address those challenges.\\n\\n4. **Comparison with Previous Models**: A comparison between the performance of the extended context model and its predecessors.\\n\\n5. **Applications and Implications**: Potential applications for the improved model and the implications of this extension for future research and development in the field of natural language processing.\\n\\n6. **Future Work**: Suggestions for future research directions based on the findings of the paper.\\n\\nIf you can wait a bit, I can try the search again later, or you could try accessing the paper through academic databases or directly from the conference or journal where it was published. If you have access to the paper\\'s DOI or a direct link, I could use other methods to help summarize the paper\\'s content for you.', name='Search')]}}\n",
            "---\n",
            "{'supervisor': {'next': 'Search'}}\n",
            "---\n",
            "{'Search': {'messages': [HumanMessage(content='Based on the search results, the main takeaways from the paper \"Extending Llama-3\\'s Context Ten-Fold Overnight\" are as follows:\\n\\n1. The paper presents an innovative approach to expanding the context length of a large language model, specifically Llama-3.\\n\\n2. The context length of the Llama-3-8B-Instruct model was extended from 8K (8,000 tokens) to 80K (80,000 tokens).\\n\\n3. This extension was achieved through a method called QLoRA fine-tuning.\\n\\n4. The entire training cycle described in the paper is noted to be super efficient.\\n\\n5. The paper likely discusses the implications for performance improvements in tasks that benefit from longer context lengths.\\n\\nFor more detailed insights, it would be beneficial to access the full paper, which can be found on arXiv with the identifier 2404.19553 or through other links provided in the search results.', name='Search')]}}\n",
            "---\n",
            "{'supervisor': {'next': 'PaperInformationRetriever'}}\n",
            "---\n",
            "{'PaperInformationRetriever': {'messages': [HumanMessage(content='The paper \"Extending Llama-3\\'s Context Ten-Fold Overnight\" describes a significant increase in the context length capability of the Llama-3-8B-Instruct model, from 8,000 tokens to 80,000 tokens. This enhancement was facilitated through a technique called QLoRA fine-tuning. Remarkably, the team managed to accomplish this expansion using only 3.5K synthetic training samples that were generated by GPT-4.\\n\\nKey takeaways from the paper include:\\n\\n1. The context length of Llama-3 was extended ten-fold using a novel fine-tuning technique.\\n2. The process involved the generation of a small set of synthetic training samples by a powerful language model, GPT-4.\\n3. The extended model demonstrated improved performance on evaluation tasks, suggesting that the longer context length was beneficial.\\n4. Despite the massive increase in context length, the model retained its ability to handle shorter contexts effectively.\\n5. In an effort to foster further research and application, the team made all resources associated with this project available to the public, including the data, model, the pipeline used for data generation, and the training code. \\n\\nThis contribution is likely to have significant implications for the future of natural language processing tasks that require understanding and generation over longer contexts.', name='PaperInformationRetriever')]}}\n",
            "---\n",
            "{'supervisor': {'next': 'FINISH'}}\n",
            "---\n"
          ]
        }
      ]
    },
    {
      "cell_type": "markdown",
      "source": [
        "## Document Writing Team - A LangGraph for Writing, Editing, and Planning a Blog\n",
        "\n",
        "Let's run it all back, this time specifically creating tools, agent nodes, and a graph for planning, writing, and editing a technical blog!"
      ],
      "metadata": {
        "id": "ejsHCZZ2EmwM"
      }
    },
    {
      "cell_type": "markdown",
      "source": [
        "### Tool Creation\n",
        "\n",
        "Let's create some tools that will help us understand, open, work with, and edit documents to our liking!"
      ],
      "metadata": {
        "id": "4awQtZ-oFUN-"
      }
    },
    {
      "cell_type": "code",
      "source": [
        "from pathlib import Path\n",
        "from tempfile import TemporaryDirectory\n",
        "from typing import Dict, Optional\n",
        "from typing_extensions import TypedDict\n",
        "\n",
        "_TEMP_DIRECTORY = TemporaryDirectory()\n",
        "WORKING_DIRECTORY = Path(_TEMP_DIRECTORY.name)\n",
        "\n",
        "\n",
        "@tool\n",
        "def create_outline(\n",
        "    points: Annotated[List[str], \"List of main points or sections.\"],\n",
        "    file_name: Annotated[str, \"File path to save the outline.\"],\n",
        ") -> Annotated[str, \"Path of the saved outline file.\"]:\n",
        "    \"\"\"Create and save an outline.\"\"\"\n",
        "    with (WORKING_DIRECTORY / file_name).open(\"w\") as file:\n",
        "        for i, point in enumerate(points):\n",
        "            file.write(f\"{i + 1}. {point}\\n\")\n",
        "    return f\"Outline saved to {file_name}\"\n",
        "\n",
        "\n",
        "@tool\n",
        "def read_document(\n",
        "    file_name: Annotated[str, \"File path to save the document.\"],\n",
        "    start: Annotated[Optional[int], \"The start line. Default is 0\"] = None,\n",
        "    end: Annotated[Optional[int], \"The end line. Default is None\"] = None,\n",
        ") -> str:\n",
        "    \"\"\"Read the specified document.\"\"\"\n",
        "    with (WORKING_DIRECTORY / file_name).open(\"r\") as file:\n",
        "        lines = file.readlines()\n",
        "    if start is not None:\n",
        "        start = 0\n",
        "    return \"\\n\".join(lines[start:end])\n",
        "\n",
        "\n",
        "@tool\n",
        "def write_document(\n",
        "    content: Annotated[str, \"Text content to be written into the document.\"],\n",
        "    file_name: Annotated[str, \"File path to save the document.\"],\n",
        ") -> Annotated[str, \"Path of the saved document file.\"]:\n",
        "    \"\"\"Create and save a text document.\"\"\"\n",
        "    with (WORKING_DIRECTORY / file_name).open(\"w\") as file:\n",
        "        file.write(content)\n",
        "    return f\"Document saved to {file_name}\"\n",
        "\n",
        "\n",
        "@tool\n",
        "def edit_document(\n",
        "    file_name: Annotated[str, \"Path of the document to be edited.\"],\n",
        "    inserts: Annotated[\n",
        "        Dict[int, str],\n",
        "        \"Dictionary where key is the line number (1-indexed) and value is the text to be inserted at that line.\",\n",
        "    ],\n",
        ") -> Annotated[str, \"Path of the edited document file.\"]:\n",
        "    \"\"\"Edit a document by inserting text at specific line numbers.\"\"\"\n",
        "\n",
        "    with (WORKING_DIRECTORY / file_name).open(\"r\") as file:\n",
        "        lines = file.readlines()\n",
        "\n",
        "    sorted_inserts = sorted(inserts.items())\n",
        "\n",
        "    for line_number, text in sorted_inserts:\n",
        "        if 1 <= line_number <= len(lines) + 1:\n",
        "            lines.insert(line_number - 1, text + \"\\n\")\n",
        "        else:\n",
        "            return f\"Error: Line number {line_number} is out of range.\"\n",
        "\n",
        "    with (WORKING_DIRECTORY / file_name).open(\"w\") as file:\n",
        "        file.writelines(lines)\n",
        "\n",
        "    return f\"Document edited and saved to {file_name}\""
      ],
      "metadata": {
        "id": "ptXilgparOkq"
      },
      "execution_count": null,
      "outputs": []
    },
    {
      "cell_type": "markdown",
      "source": [
        "### Document Writing State\n",
        "\n",
        "Just like with our Research Team state - we want to keep track of a few things, however this time - we also want to keep track of which files we've created - so let's add that here!"
      ],
      "metadata": {
        "id": "__Jw_XBIFwwa"
      }
    },
    {
      "cell_type": "code",
      "source": [
        "import operator\n",
        "from pathlib import Path\n",
        "\n",
        "class DocWritingState(TypedDict):\n",
        "    messages: Annotated[List[BaseMessage], operator.add]\n",
        "    team_members: str\n",
        "    next: str\n",
        "    current_files: str"
      ],
      "metadata": {
        "id": "DoU2YwJRu7wD"
      },
      "execution_count": null,
      "outputs": []
    },
    {
      "cell_type": "markdown",
      "source": [
        "### Document Writing Prelude Function\n",
        "\n",
        "Since we have a working directory - we want to be clear about what our current working directory looks like - this helper function will allow us to do that cleanly!"
      ],
      "metadata": {
        "id": "4p1kQShmGHCh"
      }
    },
    {
      "cell_type": "code",
      "source": [
        "def prelude(state):\n",
        "    written_files = []\n",
        "    if not WORKING_DIRECTORY.exists():\n",
        "        WORKING_DIRECTORY.mkdir()\n",
        "    try:\n",
        "        written_files = [\n",
        "            f.relative_to(WORKING_DIRECTORY) for f in WORKING_DIRECTORY.rglob(\"*\")\n",
        "        ]\n",
        "    except:\n",
        "        pass\n",
        "    if not written_files:\n",
        "        return {**state, \"current_files\": \"No files written.\"}\n",
        "    return {\n",
        "        **state,\n",
        "        \"current_files\": \"\\nBelow are files your team has written to the directory:\\n\"\n",
        "        + \"\\n\".join([f\" - {f}\" for f in written_files]),\n",
        "    }"
      ],
      "metadata": {
        "id": "G79mUggQGLVq"
      },
      "execution_count": null,
      "outputs": []
    },
    {
      "cell_type": "markdown",
      "source": [
        "### Document Writing Node Creation\n",
        "\n"
      ],
      "metadata": {
        "id": "wbSre9agT9Gb"
      }
    },
    {
      "cell_type": "code",
      "source": [
        "doc_writer_agent = create_agent(\n",
        "    llm,\n",
        "    [write_document, edit_document, read_document],\n",
        "    \"You are an expert writing a technical blog.\\n\"\n",
        "    \"Below are files currently in your directory:\\n{current_files}\",\n",
        ")\n",
        "context_aware_doc_writer_agent = prelude | doc_writer_agent\n",
        "doc_writing_node = functools.partial(\n",
        "    agent_node, agent=context_aware_doc_writer_agent, name=\"DocWriter\"\n",
        ")\n",
        "\n",
        "note_taking_agent = create_agent(\n",
        "    llm,\n",
        "    [create_outline, read_document],\n",
        "    \"You are an expert senior researcher tasked with writing a blog outline and\"\n",
        "    \" taking notes to craft a blog.{current_files}\",\n",
        ")\n",
        "context_aware_note_taking_agent = prelude | note_taking_agent\n",
        "note_taking_node = functools.partial(\n",
        "    agent_node, agent=context_aware_note_taking_agent, name=\"NoteTaker\"\n",
        ")\n",
        "\n",
        "copy_editor_agent = create_agent(\n",
        "    llm,\n",
        "    [write_document, edit_document, read_document],\n",
        "    \"You are an expert copy editor who focuses on fixing grammar, spelling, and tone issues\\n\"\n",
        "    \"Below are files currently in your directory:\\n{current_files}\",\n",
        ")\n",
        "context_aware_copy_editor_agent = prelude | copy_editor_agent\n",
        "copy_editing_node = functools.partial(\n",
        "    agent_node, agent=context_aware_copy_editor_agent, name=\"CopyEditor\"\n",
        ")\n",
        "\n",
        "dopeness_editor_agent = create_agent(\n",
        "    llm,\n",
        "    [write_document, edit_document, read_document],\n",
        "    \"You are an expert in dopeness, litness, coolness, etc - you edit the document to make sure it's dope.\"\n",
        "    \"Below are files currently in your directory:\\n{current_files}\",\n",
        ")\n",
        "context_aware_dopeness_editor_agent = prelude | dopeness_editor_agent\n",
        "dopeness_node = functools.partial(\n",
        "    agent_node, agent=context_aware_dopeness_editor_agent, name=\"DopenessEditor\"\n",
        ")\n",
        "\n",
        "doc_writing_supervisor = create_team_supervisor(\n",
        "    llm,\n",
        "    \"You are a supervisor tasked with managing a conversation between the\"\n",
        "    \" following workers:  {team_members}. You should always verify the technical\"\n",
        "    \" contents after any edits are made. \"\n",
        "    \"Given the following user request,\"\n",
        "    \" respond with the worker to act next. Each worker will perform a\"\n",
        "    \" task and respond with their results and status. When finished,\"\n",
        "    \" respond with FINISH.\",\n",
        "    [\"DocWriter\", \"NoteTaker\", \"DopenessEditor\", \"CopyEditor\"],\n",
        ")"
      ],
      "metadata": {
        "id": "v7oso327T_wa"
      },
      "execution_count": null,
      "outputs": []
    },
    {
      "cell_type": "markdown",
      "source": [
        "### Document Writing Team LangGraph Construction\n",
        "\n",
        "This part is almost exactly the same (with a few extra nodes) as our Research Team LangGraph construction - so we'll leave it as one block!"
      ],
      "metadata": {
        "id": "AUiNMpJBGXN0"
      }
    },
    {
      "cell_type": "code",
      "source": [
        "authoring_graph = StateGraph(DocWritingState)\n",
        "authoring_graph.add_node(\"DocWriter\", doc_writing_node)\n",
        "authoring_graph.add_node(\"NoteTaker\", note_taking_node)\n",
        "authoring_graph.add_node(\"CopyEditor\", copy_editing_node)\n",
        "authoring_graph.add_node(\"DopenessEditor\", dopeness_node)\n",
        "authoring_graph.add_node(\"supervisor\", doc_writing_supervisor)\n",
        "\n",
        "authoring_graph.add_edge(\"DocWriter\", \"supervisor\")\n",
        "authoring_graph.add_edge(\"NoteTaker\", \"supervisor\")\n",
        "authoring_graph.add_edge(\"CopyEditor\", \"supervisor\")\n",
        "authoring_graph.add_edge(\"DopenessEditor\", \"supervisor\")\n",
        "\n",
        "authoring_graph.add_conditional_edges(\n",
        "    \"supervisor\",\n",
        "    lambda x: x[\"next\"],\n",
        "    {\n",
        "        \"DocWriter\": \"DocWriter\",\n",
        "        \"NoteTaker\": \"NoteTaker\",\n",
        "        \"CopyEditor\" : \"CopyEditor\",\n",
        "        \"DopenessEditor\" : \"DopenessEditor\",\n",
        "        \"FINISH\": END,\n",
        "    },\n",
        ")\n",
        "\n",
        "authoring_graph.set_entry_point(\"supervisor\")\n",
        "chain = authoring_graph.compile()"
      ],
      "metadata": {
        "id": "Q6n8A1ytxVTv"
      },
      "execution_count": null,
      "outputs": []
    },
    {
      "cell_type": "markdown",
      "source": [
        "#### Display Graph"
      ],
      "metadata": {
        "id": "Zx-EKGkHKUBO"
      }
    },
    {
      "cell_type": "code",
      "source": [
        "from IPython.display import Image, display\n",
        "\n",
        "try:\n",
        "    display(Image(chain.get_graph(xray=True).draw_mermaid_png()))\n",
        "except:\n",
        "    pass"
      ],
      "metadata": {
        "colab": {
          "base_uri": "https://localhost:8080/",
          "height": 422
        },
        "id": "AZdOb3GZKSM7",
        "outputId": "2ade3558-82e6-47d3-deb5-eec545348a92"
      },
      "execution_count": null,
      "outputs": [
        {
          "output_type": "display_data",
          "data": {
            "image/jpeg": "[encoded data removed]",
            "text/plain": [
              "<IPython.core.display.Image object>"
            ]
          },
          "metadata": {}
        }
      ]
    },
    {
      "cell_type": "markdown",
      "source": [
        "Just as before - we'll need to create an \"interface\" between the level above, and our graph."
      ],
      "metadata": {
        "id": "yB_rOw1hGpwd"
      }
    },
    {
      "cell_type": "code",
      "source": [
        "def enter_chain(message: str, members: List[str]):\n",
        "    results = {\n",
        "        \"messages\": [HumanMessage(content=message)],\n",
        "        \"team_members\": \", \".join(members),\n",
        "    }\n",
        "    return results\n",
        "\n",
        "authoring_chain = (\n",
        "    functools.partial(enter_chain, members=authoring_graph.nodes)\n",
        "    | authoring_graph.compile()\n",
        ")"
      ],
      "metadata": {
        "id": "G-RbbCKoG_nt"
      },
      "execution_count": null,
      "outputs": []
    },
    {
      "cell_type": "markdown",
      "source": [
        "Now we can test this out!"
      ],
      "metadata": {
        "id": "GgyhpTrRNgQd"
      }
    },
    {
      "cell_type": "code",
      "source": [
        "for s in authoring_chain.stream(\n",
        "    \"Write an outline for for a short technical blog on Linear Regression and write it to disk.\",\n",
        "    {\"recursion_limit\": 100},\n",
        "):\n",
        "    if \"__end__\" not in s:\n",
        "        print(s)\n",
        "        print(\"---\")"
      ],
      "metadata": {
        "colab": {
          "base_uri": "https://localhost:8080/"
        },
        "id": "IWUxv4XDx3kg",
        "outputId": "38a6e2c1-ef40-4a89-f05e-d6f7d898cd1c"
      },
      "execution_count": null,
      "outputs": [
        {
          "output_type": "stream",
          "name": "stdout",
          "text": [
            "{'supervisor': {'next': 'DocWriter'}}\n",
            "---\n",
            "{'DocWriter': {'messages': [HumanMessage(content='I have written an outline for a short technical blog on Linear Regression and saved it to a document titled \"Linear-Regression-Technical-Blog-Outline.txt\". Here is the structure of the content:\\n\\n1. **Introduction to Linear Regression**\\n   - Definition and basic concept\\n   - Historical background\\n   - Importance in statistics and machine learning\\n\\n2. **Understanding the Mathematics Behind Linear Regression**\\n   - Equation of a straight line: y = mx + c\\n   - Least squares method: fitting the best line\\n   - Assumptions of linear regression\\n\\n3. **Types of Linear Regression**\\n   - Simple linear regression\\n   - Multiple linear regression\\n   - Polynomial regression\\n\\n4. **Implementing Linear Regression in Python**\\n   - Libraries: NumPy, pandas, scikit-learn\\n   - Data preparation and cleaning\\n   - Model training and interpretation of results\\n\\n5. **Evaluating Linear Regression Models**\\n   - Coefficient of determination (R-squared)\\n   - Mean squared error (MSE) and root mean squared error (RMSE)\\n   - Residual analysis and diagnostic plots\\n\\n6. **Use Cases of Linear Regression**\\n   - Examples from various industries\\n   - Limitations and considerations\\n\\n7. **Conclusion**\\n   - Recap of key points\\n   - Future of linear regression in the era of complex models\\n\\n8. **References**\\n   - Academic papers\\n   - Online resources\\n\\nThis outline will serve as a guide for structuring the full blog post, ensuring it covers all essential aspects of linear regression in a logical and comprehensive manner.', name='DocWriter')]}}\n",
            "---\n",
            "{'supervisor': {'next': 'NoteTaker'}}\n",
            "---\n",
            "{'NoteTaker': {'messages': [HumanMessage(content='The outline for the short technical blog on Linear Regression has been crafted with a dope touch and saved to a document titled \"Linear-Regression-Technical-Blog-Outline.txt\". Get ready to dive into an engaging and informative read that breaks down the complexities of Linear Regression into cool, easy-to-digest nuggets of wisdom! 🚀💡📈', name='DopenessEditor')]}}\n",
            "---\n",
            "{'supervisor': {'next': 'FINISH'}}\n",
            "---\n"
          ]
        }
      ]
    },
    {
      "cell_type": "markdown",
      "source": [
        "## Meta-Supervisor\n",
        "\n",
        "Finally, now that we have our two LangGraph agents (some of which are already multi-agent), we can build a supervisor that sits above all of them!\n",
        "\n",
        "The final process, surprisingly, is quite straight forward!\n",
        "\n",
        "Let's jump in!\n",
        "\n",
        "First off - we'll need to create our supervisor agent node."
      ],
      "metadata": {
        "id": "zpW2R9SUHGUq"
      }
    },
    {
      "cell_type": "code",
      "source": [
        "from langchain_core.messages import AIMessage, BaseMessage, HumanMessage\n",
        "from langchain_openai.chat_models import ChatOpenAI\n",
        "\n",
        "\n",
        "llm = ChatOpenAI(model=\"gpt-4-1106-preview\")\n",
        "\n",
        "supervisor_node = create_team_supervisor(\n",
        "    llm,\n",
        "    \"You are a supervisor tasked with managing a conversation between the\"\n",
        "    \" following teams: {team_members}. Given the following user request,\"\n",
        "    \" respond with the worker to act next. Each worker will perform a\"\n",
        "    \" task and respond with their results and status. When finished,\"\n",
        "    \" respond with FINISH.\",\n",
        "    [\"Research team\", \"Blog writing team\"],\n",
        ")"
      ],
      "metadata": {
        "id": "wkpxeUf9ygKp"
      },
      "execution_count": null,
      "outputs": []
    },
    {
      "cell_type": "markdown",
      "source": [
        "We'll also create our new state - as well as some methods to help us navigate the new state and the subgraphs.\n",
        "\n",
        "> NOTE: We only pass the most recent message from the parent graph to the subgraph, and we only extract the most recent message from the subgraph to include in the state of the parent graph."
      ],
      "metadata": {
        "id": "hUvOh_xWIKig"
      }
    },
    {
      "cell_type": "code",
      "source": [
        "class State(TypedDict):\n",
        "    messages: Annotated[List[BaseMessage], operator.add]\n",
        "    next: str\n",
        "\n",
        "def get_last_message(state: State) -> str:\n",
        "    return state[\"messages\"][-1].content\n",
        "\n",
        "def join_graph(response: dict):\n",
        "    return {\"messages\": [response[\"messages\"][-1]]}"
      ],
      "metadata": {
        "id": "O7HJ8MF0yh_i"
      },
      "execution_count": null,
      "outputs": []
    },
    {
      "cell_type": "markdown",
      "source": [
        "Next, we'll create our base graph.\n",
        "\n",
        "Notice how each node we're adding is *AN ENTIRE LANGGRAPH AGENT* (wrapped into an LCEL chain with our helper functions above)."
      ],
      "metadata": {
        "id": "B5RHao1sIanG"
      }
    },
    {
      "cell_type": "code",
      "source": [
        "super_graph = StateGraph(State)\n",
        "\n",
        "super_graph.add_node(\"Research team\", get_last_message | research_chain | join_graph)\n",
        "super_graph.add_node(\n",
        "    \"Blog writing team\", get_last_message | authoring_chain | join_graph\n",
        ")\n",
        "super_graph.add_node(\"supervisor\", supervisor_node)"
      ],
      "metadata": {
        "id": "PfCWABCMIaFy"
      },
      "execution_count": null,
      "outputs": []
    },
    {
      "cell_type": "markdown",
      "source": [
        "Next, we'll create our edges!\n",
        "\n",
        "This process is completely idenctical to what we've seen before - just addressing the LangGraph subgraph nodes instead of individual nodes."
      ],
      "metadata": {
        "id": "dpwpUXMtI62E"
      }
    },
    {
      "cell_type": "code",
      "source": [
        "super_graph.add_edge(\"Research team\", \"supervisor\")\n",
        "super_graph.add_edge(\"Blog writing team\", \"supervisor\")\n",
        "super_graph.add_conditional_edges(\n",
        "    \"supervisor\",\n",
        "    lambda x: x[\"next\"],\n",
        "    {\n",
        "        \"Blog writing team\": \"Blog writing team\",\n",
        "        \"Research team\": \"Research team\",\n",
        "        \"FINISH\": END,\n",
        "    },\n",
        ")\n",
        "super_graph.set_entry_point(\"supervisor\")\n",
        "super_graph = super_graph.compile()"
      ],
      "metadata": {
        "id": "tLtjRuUYI-fx"
      },
      "execution_count": null,
      "outputs": []
    },
    {
      "cell_type": "markdown",
      "source": [
        "That's it!\n",
        "\n",
        "Now we can finally use our full agent!"
      ],
      "metadata": {
        "id": "K1KMfFqgJKw8"
      }
    },
    {
      "cell_type": "code",
      "source": [
        "for s in super_graph.stream(\n",
        "    {\n",
        "        \"messages\": [\n",
        "            HumanMessage(\n",
        "                content=\"Write a brief technical blog on the paper 'Extending Llama-3’s Context Ten-Fold Overnight'. Make sure to copy-edit it, as well as check for dopeness - and then write it to disk.\"\n",
        "            )\n",
        "        ],\n",
        "    },\n",
        "    {\"recursion_limit\": 150},\n",
        "):\n",
        "    if \"__end__\" not in s:\n",
        "        print(s)\n",
        "        print(\"---\")"
      ],
      "metadata": {
        "colab": {
          "base_uri": "https://localhost:8080/"
        },
        "id": "3M6wUDR-yk8s",
        "outputId": "b2d8dee7-6dd4-4b1d-f43b-9bd256dbe5da"
      },
      "execution_count": null,
      "outputs": [
        {
          "output_type": "stream",
          "name": "stdout",
          "text": [
            "{'supervisor': {'next': 'Research team'}}\n",
            "---\n",
            "{'Research team': {'messages': [HumanMessage(content='---\\ntitle: \"Massive Expansion: How Llama-3\\'s Context Grew Ten-Fold Overnight\"\\ndate: [Today\\'s Date]\\nauthor: [Your Name]\\n---\\n\\nIn the ever-evolving landscape of natural language processing (NLP), researchers continuously push the boundaries of what\\'s possible. A recent groundbreaking development comes from a team that has managed to extend the context length of the large language model Llama-3-8B-Instruct from a standard 8,000 tokens to an astounding 80,000 tokens. This leap forward, as detailed in their paper \"Extending Llama-3\\'s Context Ten-Fold Overnight,\" represents a significant enhancement in the model\\'s ability to process and understand extended passages of text.\\n\\n### Why Context Matters\\n\\nThe ability of a language model to maintain a broader context is crucial for complex tasks such as summarizing long documents, answering detailed questions, and generating coherent, extended narratives. Previously, the 8,000-token limit was a bottleneck that often forced models to lose track of earlier portions of text, leading to repetition or inconsistency. By expanding the context window tenfold, Llama-3 can now retain and refer to information over much longer stretches, facilitating a deeper understanding of the subject matter.\\n\\n### The Efficiency of Expansion\\n\\nOne might expect that such a significant upgrade would require an extensive amount of computational resources and time. However, the researchers have optimized the training cycle to be incredibly efficient, taking only 8 hours on a single machine equipped with eight A800 (80G) GPUs. This efficiency demonstrates that substantial improvements in language model capabilities can be achieved without the need for exorbitant computational costs.\\n\\n### Implications and Applications\\n\\nThe implications of this advancement are wide-ranging. For instance, in the field of legal and medical document analysis, where professionals often grapple with lengthy and complex texts, Llama-3\\'s enhanced context capabilities could revolutionize information extraction and decision-making processes. Moreover, in creative industries, writers and content creators could harness the model\\'s augmented memory to craft intricate narratives with unprecedented consistency and depth.\\n\\n### Conclusion\\n\\nThe extension of Llama-3\\'s context length is not just a technical feat; it\\'s a door opener to new possibilities in NLP applications. As we witness these models handle extended contexts with ease, we edge closer to achieving AI systems that can truly comprehend and interact with human language on a level that was once the realm of science fiction.\\n\\nStay tuned as we continue to track the impact of this considerable extension on the future of language models.\\n\\n---\\n\\n*This technical blog has been thoroughly copy-edited for clarity and checked for dopeness. It has been written to disk and is ready for dissemination.*\\n\\n[End of Blog]', name='Search')]}}\n",
            "---\n",
            "{'supervisor': {'next': 'Research team'}}\n",
            "---\n",
            "{'Research team': {'messages': [HumanMessage(content='I have found information on the paper \"Extending Llama-3\\'s Context Ten-Fold Overnight.\" The team managed to extend the context length of the Llama-3-8B-Instruct model from 8,000 to 80,000 tokens. They achieved this by using QLoRA fine-tuning and generating 3.5K synthetic training samples with the assistance of GPT-4. The enhanced model showed improved performance across different evaluation tasks while maintaining its capabilities over short contexts. Furthermore, the team intends to make the resources, including data, the model, the data generation pipeline, and the training code available to the public. If you have any more specific questions or need further details, feel free to ask!', name='PaperInformationRetriever')]}}\n",
            "---\n",
            "{'supervisor': {'next': 'Blog writing team'}}\n",
            "---\n",
            "{'Blog writing team': {'messages': [HumanMessage(content='The blog post titled \"Extending the Contextual Reach: A Deep Dive into Llama-3\\'s Breakthrough\" has been edited for accuracy. The specified changes have been made, ensuring that the information about the creation of synthetic training samples and the resources shared by the team is correctly reflected in the text. The document is now updated and ready for further review or publishing.', name='CopyEditor')]}}\n",
            "---\n",
            "{'supervisor': {'next': 'FINISH'}}\n",
            "---\n"
          ]
        }
      ]
    },
    {
      "cell_type": "markdown",
      "source": [
        "## SAMPLE BLOG!"
      ],
      "metadata": {
        "id": "PuZAvSlJJpPP"
      }
    },
    {
      "cell_type": "markdown",
      "source": [
        "## Unleashing the Power of Context in AI: The Llama-3 Breakthrough\n",
        "\n",
        "Artificial intelligence has just witnessed a transformative leap forward with the release of a groundbreaking paper, \"Extending Llama-3's Context Ten-Fold Overnight.\" The research team has achieved a feat that seemed almost insurmountable until now\\u2014extending the context length of Llama-3, a large language model, from a modest 8K tokens to an astonishing 80K tokens. This enhancement has been made possible through a sophisticated technique known as QLoRA fine-tuning, and the results are nothing short of revolutionary.\n",
        "\n",
        "Here's the scoop: The researchers didn't just tweak the existing model. They employed synthetic training samples crafted by none other than GPT-4, an AI model renowned for its linguistic prowess. The collaboration between Llama-3 and GPT-4 has ushered in a new era for Llama-3-8B-Instruct, the upgraded avatar of Llama-3. This version doesn't just maintain the model\\u2019s original capability over short contexts but elevates its performance across various complex evaluation tasks.\n",
        "\n",
        "What does this mean for the field of AI and for us, the users? Imagine interacting with AI that can hold a conversation with the depth of context that was previously the domain of human memory alone. This extended context length allows Llama-3 to delve into discussions and generate responses with unprecedented continuity and relevance. From customer service bots to digital assistants, the applications are limitless and thrilling.\n",
        "\n",
        "The best part? The research team is committed to transparency and collaboration. In an unprecedented move, they plan to release the entire suite of resources to the public. This includes the data, the enhanced model, the data generation pipeline, and even the training code. It's a gesture that promises to fuel further innovation and shared progress in the field of AI.\n",
        "\n",
        "The technical community is abuzz with excitement over this development, and rightly so. The \"Extending Llama-3's Context Ten-Fold Overnight\" paper doesn't just document an impressive technical achievement; it charts a course for the future of AI interactions that are richer, deeper, and more meaningful than ever before."
      ],
      "metadata": {
        "id": "lOEMCrXTJaxW"
      }
    }
  ]
}